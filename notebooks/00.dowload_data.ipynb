{
 "cells": [
  {
   "cell_type": "code",
   "execution_count": 1,
   "id": "70f985ff-49d7-4658-8ed3-2953fddaf0c4",
   "metadata": {
    "tags": []
   },
   "outputs": [],
   "source": [
    "import pandas as pd"
   ]
  },
  {
   "cell_type": "code",
   "execution_count": 18,
   "id": "59d8afbc-719e-4eaf-8c8f-00c88099211c",
   "metadata": {
    "tags": []
   },
   "outputs": [],
   "source": [
    "dados = pd.read_csv('https://raw.githubusercontent.com/atlantico-academy/datasets/refs/heads/main/penguins.csv')\n",
    "\n",
    "dados = dados.to_csv('../data/raw/data.csv', index = False)"
   ]
  },
  {
   "cell_type": "code",
   "execution_count": 15,
   "id": "054575dc-0b73-49ec-8494-8b8f6a094a2d",
   "metadata": {
    "tags": []
   },
   "outputs": [],
   "source": [
    "data_dict = {\n",
    "    'variavel': ['species', 'island', 'bill_length_mm', 'bill_depth_mm', 'flipper_length_mm', 'body_mass_g', 'sex'],\n",
    "    'descricao': [\n",
    "        'Espécie do pinguim (Adelie, Chinstrap, Gentoo).',\n",
    "        'Ilha de origem do pinguim (Biscoe, Dream, Torgersen).',\n",
    "        'Comprimento do bico em milímetros.',\n",
    "        'Profundidade do bico em milímetros.',\n",
    "        'Comprimento da nadadeira em milímetros.',\n",
    "        'Massa corporal em gramas.',\n",
    "        'Sexo do pinguim (Male, Female).'\n",
    "    ],\n",
    "    'tipo': ['qualitativa', 'qualitativa', 'quantitativa', 'quantitativa', 'quantitativa', 'quantitativa', 'qualitativa'],\n",
    "    'subtipo': ['nominal', 'nominal', 'contínua', 'contínua', 'contínua', 'contínua', 'nominal']\n",
    "}\n",
    "\n",
    "# Converter o dicionário em DataFrame\n",
    "data_dictionary = pd.DataFrame(data_dict)"
   ]
  },
  {
   "cell_type": "code",
   "execution_count": 16,
   "id": "86439332-333a-4e6b-9cd3-c51d0c9454c5",
   "metadata": {
    "tags": []
   },
   "outputs": [
    {
     "data": {
      "text/html": [
       "<div>\n",
       "<style scoped>\n",
       "    .dataframe tbody tr th:only-of-type {\n",
       "        vertical-align: middle;\n",
       "    }\n",
       "\n",
       "    .dataframe tbody tr th {\n",
       "        vertical-align: top;\n",
       "    }\n",
       "\n",
       "    .dataframe thead th {\n",
       "        text-align: right;\n",
       "    }\n",
       "</style>\n",
       "<table border=\"1\" class=\"dataframe\">\n",
       "  <thead>\n",
       "    <tr style=\"text-align: right;\">\n",
       "      <th></th>\n",
       "      <th>variavel</th>\n",
       "      <th>descricao</th>\n",
       "      <th>tipo</th>\n",
       "      <th>subtipo</th>\n",
       "    </tr>\n",
       "  </thead>\n",
       "  <tbody>\n",
       "    <tr>\n",
       "      <th>0</th>\n",
       "      <td>species</td>\n",
       "      <td>Espécie do pinguim (Adelie, Chinstrap, Gentoo).</td>\n",
       "      <td>qualitativa</td>\n",
       "      <td>nominal</td>\n",
       "    </tr>\n",
       "    <tr>\n",
       "      <th>1</th>\n",
       "      <td>island</td>\n",
       "      <td>Ilha de origem do pinguim (Biscoe, Dream, Torg...</td>\n",
       "      <td>qualitativa</td>\n",
       "      <td>nominal</td>\n",
       "    </tr>\n",
       "    <tr>\n",
       "      <th>2</th>\n",
       "      <td>bill_length_mm</td>\n",
       "      <td>Comprimento do bico em milímetros.</td>\n",
       "      <td>quantitativa</td>\n",
       "      <td>contínua</td>\n",
       "    </tr>\n",
       "    <tr>\n",
       "      <th>3</th>\n",
       "      <td>bill_depth_mm</td>\n",
       "      <td>Profundidade do bico em milímetros.</td>\n",
       "      <td>quantitativa</td>\n",
       "      <td>contínua</td>\n",
       "    </tr>\n",
       "    <tr>\n",
       "      <th>4</th>\n",
       "      <td>flipper_length_mm</td>\n",
       "      <td>Comprimento da nadadeira em milímetros.</td>\n",
       "      <td>quantitativa</td>\n",
       "      <td>contínua</td>\n",
       "    </tr>\n",
       "    <tr>\n",
       "      <th>5</th>\n",
       "      <td>body_mass_g</td>\n",
       "      <td>Massa corporal em gramas.</td>\n",
       "      <td>quantitativa</td>\n",
       "      <td>contínua</td>\n",
       "    </tr>\n",
       "    <tr>\n",
       "      <th>6</th>\n",
       "      <td>sex</td>\n",
       "      <td>Sexo do pinguim (Male, Female).</td>\n",
       "      <td>qualitativa</td>\n",
       "      <td>nominal</td>\n",
       "    </tr>\n",
       "  </tbody>\n",
       "</table>\n",
       "</div>"
      ],
      "text/plain": [
       "            variavel                                          descricao  \\\n",
       "0            species    Espécie do pinguim (Adelie, Chinstrap, Gentoo).   \n",
       "1             island  Ilha de origem do pinguim (Biscoe, Dream, Torg...   \n",
       "2     bill_length_mm                 Comprimento do bico em milímetros.   \n",
       "3      bill_depth_mm                Profundidade do bico em milímetros.   \n",
       "4  flipper_length_mm            Comprimento da nadadeira em milímetros.   \n",
       "5        body_mass_g                          Massa corporal em gramas.   \n",
       "6                sex                    Sexo do pinguim (Male, Female).   \n",
       "\n",
       "           tipo   subtipo  \n",
       "0   qualitativa   nominal  \n",
       "1   qualitativa   nominal  \n",
       "2  quantitativa  contínua  \n",
       "3  quantitativa  contínua  \n",
       "4  quantitativa  contínua  \n",
       "5  quantitativa  contínua  \n",
       "6   qualitativa   nominal  "
      ]
     },
     "execution_count": 16,
     "metadata": {},
     "output_type": "execute_result"
    }
   ],
   "source": [
    "data_dictionary"
   ]
  },
  {
   "cell_type": "code",
   "execution_count": 17,
   "id": "5a2ab845-faf2-411f-8508-f55cdf632a3d",
   "metadata": {
    "tags": []
   },
   "outputs": [],
   "source": [
    "data_dictionary.to_csv(\"../data/external/dictionary.csv\", index = False)"
   ]
  }
 ],
 "metadata": {
  "kernelspec": {
   "display_name": "Python 3 (ipykernel)",
   "language": "python",
   "name": "python3"
  },
  "language_info": {
   "codemirror_mode": {
    "name": "ipython",
    "version": 3
   },
   "file_extension": ".py",
   "mimetype": "text/x-python",
   "name": "python",
   "nbconvert_exporter": "python",
   "pygments_lexer": "ipython3",
   "version": "3.10.11"
  }
 },
 "nbformat": 4,
 "nbformat_minor": 5
}
